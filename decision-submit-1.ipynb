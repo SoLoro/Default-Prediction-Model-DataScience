{
 "cells": [
  {
   "cell_type": "code",
   "execution_count": 53,
   "id": "bbf63973",
   "metadata": {},
   "outputs": [],
   "source": [
    "#1.Импорт Библиотек\n",
    "import pandas as pd\n",
    "from sklearn.metrics import f1_score\n",
    "from matplotlib import pyplot as plt\n",
    "import seaborn as sns\n",
    "from sklearn.preprocessing import StandardScaler\n",
    "from sklearn.model_selection import cross_val_score\n",
    "from sklearn.model_selection import train_test_split\n",
    "from sklearn.svm import SVC\n",
    "from sklearn.metrics import accuracy_score"
   ]
  },
  {
   "cell_type": "code",
   "execution_count": 54,
   "id": "704b5df3",
   "metadata": {},
   "outputs": [],
   "source": [
    "#2.Создание датасетов на основании подгруженных данных\n",
    "train_df = pd.read_csv('PD-data-train.csv', sep=';')\n",
    "test_df = pd.read_csv('PD-data-test.csv', sep=';')\n",
    "desc_df = pd.read_csv('PD-data-desc.csv', sep=';')"
   ]
  },
  {
   "cell_type": "code",
   "execution_count": 55,
   "id": "10074eb0",
   "metadata": {},
   "outputs": [
    {
     "data": {
      "text/html": [
       "<div>\n",
       "<style scoped>\n",
       "    .dataframe tbody tr th:only-of-type {\n",
       "        vertical-align: middle;\n",
       "    }\n",
       "\n",
       "    .dataframe tbody tr th {\n",
       "        vertical-align: top;\n",
       "    }\n",
       "\n",
       "    .dataframe thead th {\n",
       "        text-align: right;\n",
       "    }\n",
       "</style>\n",
       "<table border=\"1\" class=\"dataframe\">\n",
       "  <thead>\n",
       "    <tr style=\"text-align: right;\">\n",
       "      <th></th>\n",
       "      <th>field</th>\n",
       "      <th>desc_eng</th>\n",
       "      <th>desc_rus</th>\n",
       "    </tr>\n",
       "  </thead>\n",
       "  <tbody>\n",
       "    <tr>\n",
       "      <th>0</th>\n",
       "      <td>ar_revenue</td>\n",
       "      <td>Sales revenue (at the end of the last year)</td>\n",
       "      <td>Выручка от реализации (на конец последнего года)</td>\n",
       "    </tr>\n",
       "    <tr>\n",
       "      <th>1</th>\n",
       "      <td>ar_total_expenses</td>\n",
       "      <td>Total expenses for the last year</td>\n",
       "      <td>Общие расходы за последний год</td>\n",
       "    </tr>\n",
       "    <tr>\n",
       "      <th>2</th>\n",
       "      <td>ar_sale_cost</td>\n",
       "      <td>Cost of sales (at the end of the last year)</td>\n",
       "      <td>Себестоимость продаж (на конец последнего года)</td>\n",
       "    </tr>\n",
       "    <tr>\n",
       "      <th>3</th>\n",
       "      <td>ar_selling_expenses</td>\n",
       "      <td>Selling expenses (at the end of the last year)</td>\n",
       "      <td>Коммерческие расходы (на конец последнего года)</td>\n",
       "    </tr>\n",
       "    <tr>\n",
       "      <th>4</th>\n",
       "      <td>ar_management_expenses</td>\n",
       "      <td>Administrative expenses (at the end of the las...</td>\n",
       "      <td>Управленческие расходы (на конец последнего года)</td>\n",
       "    </tr>\n",
       "  </tbody>\n",
       "</table>\n",
       "</div>"
      ],
      "text/plain": [
       "                    field                                           desc_eng  \\\n",
       "0              ar_revenue        Sales revenue (at the end of the last year)   \n",
       "1       ar_total_expenses                   Total expenses for the last year   \n",
       "2            ar_sale_cost        Cost of sales (at the end of the last year)   \n",
       "3     ar_selling_expenses     Selling expenses (at the end of the last year)   \n",
       "4  ar_management_expenses  Administrative expenses (at the end of the las...   \n",
       "\n",
       "                                            desc_rus  \n",
       "0   Выручка от реализации (на конец последнего года)  \n",
       "1                     Общие расходы за последний год  \n",
       "2    Себестоимость продаж (на конец последнего года)  \n",
       "3    Коммерческие расходы (на конец последнего года)  \n",
       "4  Управленческие расходы (на конец последнего года)  "
      ]
     },
     "execution_count": 55,
     "metadata": {},
     "output_type": "execute_result"
    }
   ],
   "source": [
    "#5 верхних записей содержимого набора заголовков\n",
    "desc_df.head()"
   ]
  },
  {
   "cell_type": "code",
   "execution_count": 56,
   "id": "23f69f28",
   "metadata": {},
   "outputs": [
    {
     "data": {
      "text/html": [
       "<div>\n",
       "<style scoped>\n",
       "    .dataframe tbody tr th:only-of-type {\n",
       "        vertical-align: middle;\n",
       "    }\n",
       "\n",
       "    .dataframe tbody tr th {\n",
       "        vertical-align: top;\n",
       "    }\n",
       "\n",
       "    .dataframe thead th {\n",
       "        text-align: right;\n",
       "    }\n",
       "</style>\n",
       "<table border=\"1\" class=\"dataframe\">\n",
       "  <thead>\n",
       "    <tr style=\"text-align: right;\">\n",
       "      <th></th>\n",
       "      <th>record_id</th>\n",
       "      <th>ar_revenue</th>\n",
       "      <th>ar_total_expenses</th>\n",
       "      <th>ar_sale_cost</th>\n",
       "      <th>ar_selling_expenses</th>\n",
       "      <th>ar_management_expenses</th>\n",
       "      <th>ar_sale_profit</th>\n",
       "      <th>ar_balance_of_rvns_and_expns</th>\n",
       "      <th>ar_profit_before_tax</th>\n",
       "      <th>ar_taxes</th>\n",
       "      <th>...</th>\n",
       "      <th>adr_actual_age</th>\n",
       "      <th>head_actual_age</th>\n",
       "      <th>cap_actual_age</th>\n",
       "      <th>ul_staff_range</th>\n",
       "      <th>ul_capital_sum</th>\n",
       "      <th>ul_founders_cnt</th>\n",
       "      <th>ul_branch_cnt</th>\n",
       "      <th>ul_strategic_flg</th>\n",
       "      <th>ul_systematizing_flg</th>\n",
       "      <th>default_12m</th>\n",
       "    </tr>\n",
       "  </thead>\n",
       "  <tbody>\n",
       "    <tr>\n",
       "      <th>0</th>\n",
       "      <td>7</td>\n",
       "      <td>52996000.0</td>\n",
       "      <td>48344000.0</td>\n",
       "      <td>48344000.0</td>\n",
       "      <td>0.0</td>\n",
       "      <td>0.0</td>\n",
       "      <td>4652000.0</td>\n",
       "      <td>-2608000.0</td>\n",
       "      <td>2044000.0</td>\n",
       "      <td>846000.0</td>\n",
       "      <td>...</td>\n",
       "      <td>3</td>\n",
       "      <td>3</td>\n",
       "      <td>3</td>\n",
       "      <td>[1-100]</td>\n",
       "      <td>50000.0</td>\n",
       "      <td>2</td>\n",
       "      <td>0</td>\n",
       "      <td>0</td>\n",
       "      <td>0</td>\n",
       "      <td>0</td>\n",
       "    </tr>\n",
       "    <tr>\n",
       "      <th>1</th>\n",
       "      <td>13</td>\n",
       "      <td>NaN</td>\n",
       "      <td>NaN</td>\n",
       "      <td>NaN</td>\n",
       "      <td>NaN</td>\n",
       "      <td>NaN</td>\n",
       "      <td>NaN</td>\n",
       "      <td>NaN</td>\n",
       "      <td>NaN</td>\n",
       "      <td>NaN</td>\n",
       "      <td>...</td>\n",
       "      <td>12</td>\n",
       "      <td>12</td>\n",
       "      <td>12</td>\n",
       "      <td>[1-100]</td>\n",
       "      <td>10000.0</td>\n",
       "      <td>5</td>\n",
       "      <td>0</td>\n",
       "      <td>0</td>\n",
       "      <td>0</td>\n",
       "      <td>0</td>\n",
       "    </tr>\n",
       "    <tr>\n",
       "      <th>2</th>\n",
       "      <td>18</td>\n",
       "      <td>NaN</td>\n",
       "      <td>NaN</td>\n",
       "      <td>NaN</td>\n",
       "      <td>NaN</td>\n",
       "      <td>NaN</td>\n",
       "      <td>NaN</td>\n",
       "      <td>NaN</td>\n",
       "      <td>NaN</td>\n",
       "      <td>NaN</td>\n",
       "      <td>...</td>\n",
       "      <td>28</td>\n",
       "      <td>28</td>\n",
       "      <td>28</td>\n",
       "      <td>[1-100]</td>\n",
       "      <td>10000.0</td>\n",
       "      <td>2</td>\n",
       "      <td>0</td>\n",
       "      <td>0</td>\n",
       "      <td>0</td>\n",
       "      <td>0</td>\n",
       "    </tr>\n",
       "    <tr>\n",
       "      <th>3</th>\n",
       "      <td>22</td>\n",
       "      <td>32049000.0</td>\n",
       "      <td>29568000.0</td>\n",
       "      <td>29568000.0</td>\n",
       "      <td>0.0</td>\n",
       "      <td>0.0</td>\n",
       "      <td>2481000.0</td>\n",
       "      <td>-260000.0</td>\n",
       "      <td>2221000.0</td>\n",
       "      <td>302000.0</td>\n",
       "      <td>...</td>\n",
       "      <td>8</td>\n",
       "      <td>8</td>\n",
       "      <td>8</td>\n",
       "      <td>[1-100]</td>\n",
       "      <td>300000.0</td>\n",
       "      <td>1</td>\n",
       "      <td>0</td>\n",
       "      <td>0</td>\n",
       "      <td>0</td>\n",
       "      <td>0</td>\n",
       "    </tr>\n",
       "    <tr>\n",
       "      <th>4</th>\n",
       "      <td>23</td>\n",
       "      <td>16458000.0</td>\n",
       "      <td>14935000.0</td>\n",
       "      <td>14935000.0</td>\n",
       "      <td>0.0</td>\n",
       "      <td>0.0</td>\n",
       "      <td>1523000.0</td>\n",
       "      <td>-274000.0</td>\n",
       "      <td>1249000.0</td>\n",
       "      <td>538000.0</td>\n",
       "      <td>...</td>\n",
       "      <td>27</td>\n",
       "      <td>27</td>\n",
       "      <td>27</td>\n",
       "      <td>[1-100]</td>\n",
       "      <td>10000.0</td>\n",
       "      <td>2</td>\n",
       "      <td>0</td>\n",
       "      <td>0</td>\n",
       "      <td>0</td>\n",
       "      <td>0</td>\n",
       "    </tr>\n",
       "  </tbody>\n",
       "</table>\n",
       "<p>5 rows × 37 columns</p>\n",
       "</div>"
      ],
      "text/plain": [
       "   record_id  ar_revenue  ar_total_expenses  ar_sale_cost  \\\n",
       "0          7  52996000.0         48344000.0    48344000.0   \n",
       "1         13         NaN                NaN           NaN   \n",
       "2         18         NaN                NaN           NaN   \n",
       "3         22  32049000.0         29568000.0    29568000.0   \n",
       "4         23  16458000.0         14935000.0    14935000.0   \n",
       "\n",
       "   ar_selling_expenses  ar_management_expenses  ar_sale_profit  \\\n",
       "0                  0.0                     0.0       4652000.0   \n",
       "1                  NaN                     NaN             NaN   \n",
       "2                  NaN                     NaN             NaN   \n",
       "3                  0.0                     0.0       2481000.0   \n",
       "4                  0.0                     0.0       1523000.0   \n",
       "\n",
       "   ar_balance_of_rvns_and_expns  ar_profit_before_tax  ar_taxes  ...  \\\n",
       "0                    -2608000.0             2044000.0  846000.0  ...   \n",
       "1                           NaN                   NaN       NaN  ...   \n",
       "2                           NaN                   NaN       NaN  ...   \n",
       "3                     -260000.0             2221000.0  302000.0  ...   \n",
       "4                     -274000.0             1249000.0  538000.0  ...   \n",
       "\n",
       "   adr_actual_age  head_actual_age  cap_actual_age  ul_staff_range  \\\n",
       "0               3                3               3         [1-100]   \n",
       "1              12               12              12         [1-100]   \n",
       "2              28               28              28         [1-100]   \n",
       "3               8                8               8         [1-100]   \n",
       "4              27               27              27         [1-100]   \n",
       "\n",
       "   ul_capital_sum  ul_founders_cnt  ul_branch_cnt  ul_strategic_flg  \\\n",
       "0         50000.0                2              0                 0   \n",
       "1         10000.0                5              0                 0   \n",
       "2         10000.0                2              0                 0   \n",
       "3        300000.0                1              0                 0   \n",
       "4         10000.0                2              0                 0   \n",
       "\n",
       "   ul_systematizing_flg  default_12m  \n",
       "0                     0            0  \n",
       "1                     0            0  \n",
       "2                     0            0  \n",
       "3                     0            0  \n",
       "4                     0            0  \n",
       "\n",
       "[5 rows x 37 columns]"
      ]
     },
     "execution_count": 56,
     "metadata": {},
     "output_type": "execute_result"
    }
   ],
   "source": [
    "#5 верхних тренировочных записей\n",
    "train_df.head()"
   ]
  },
  {
   "cell_type": "code",
   "execution_count": 57,
   "id": "24897bb4",
   "metadata": {},
   "outputs": [
    {
     "data": {
      "text/plain": [
       "(32395, 37)"
      ]
     },
     "execution_count": 57,
     "metadata": {},
     "output_type": "execute_result"
    }
   ],
   "source": [
    "#Размерность тренировочного датасета\n",
    "train_df.shape"
   ]
  },
  {
   "cell_type": "code",
   "execution_count": 58,
   "id": "8ef84626",
   "metadata": {},
   "outputs": [
    {
     "data": {
      "text/html": [
       "<div>\n",
       "<style scoped>\n",
       "    .dataframe tbody tr th:only-of-type {\n",
       "        vertical-align: middle;\n",
       "    }\n",
       "\n",
       "    .dataframe tbody tr th {\n",
       "        vertical-align: top;\n",
       "    }\n",
       "\n",
       "    .dataframe thead th {\n",
       "        text-align: right;\n",
       "    }\n",
       "</style>\n",
       "<table border=\"1\" class=\"dataframe\">\n",
       "  <thead>\n",
       "    <tr style=\"text-align: right;\">\n",
       "      <th></th>\n",
       "      <th>record_id</th>\n",
       "      <th>ar_revenue</th>\n",
       "      <th>ar_total_expenses</th>\n",
       "      <th>ar_sale_cost</th>\n",
       "      <th>ar_selling_expenses</th>\n",
       "      <th>ar_management_expenses</th>\n",
       "      <th>ar_sale_profit</th>\n",
       "      <th>ar_balance_of_rvns_and_expns</th>\n",
       "      <th>ar_profit_before_tax</th>\n",
       "      <th>ar_taxes</th>\n",
       "      <th>...</th>\n",
       "      <th>ogrn_age</th>\n",
       "      <th>adr_actual_age</th>\n",
       "      <th>head_actual_age</th>\n",
       "      <th>cap_actual_age</th>\n",
       "      <th>ul_staff_range</th>\n",
       "      <th>ul_capital_sum</th>\n",
       "      <th>ul_founders_cnt</th>\n",
       "      <th>ul_branch_cnt</th>\n",
       "      <th>ul_strategic_flg</th>\n",
       "      <th>ul_systematizing_flg</th>\n",
       "    </tr>\n",
       "  </thead>\n",
       "  <tbody>\n",
       "    <tr>\n",
       "      <th>0</th>\n",
       "      <td>196</td>\n",
       "      <td>39103000.0</td>\n",
       "      <td>38913000.0</td>\n",
       "      <td>38913000.0</td>\n",
       "      <td>0.0</td>\n",
       "      <td>0.0</td>\n",
       "      <td>190000.0</td>\n",
       "      <td>141000.0</td>\n",
       "      <td>331000.0</td>\n",
       "      <td>284000.0</td>\n",
       "      <td>...</td>\n",
       "      <td>135</td>\n",
       "      <td>3</td>\n",
       "      <td>3</td>\n",
       "      <td>3</td>\n",
       "      <td>[1-100]</td>\n",
       "      <td>100000.0</td>\n",
       "      <td>1</td>\n",
       "      <td>0</td>\n",
       "      <td>0</td>\n",
       "      <td>0</td>\n",
       "    </tr>\n",
       "    <tr>\n",
       "      <th>1</th>\n",
       "      <td>1196</td>\n",
       "      <td>NaN</td>\n",
       "      <td>NaN</td>\n",
       "      <td>NaN</td>\n",
       "      <td>NaN</td>\n",
       "      <td>NaN</td>\n",
       "      <td>NaN</td>\n",
       "      <td>NaN</td>\n",
       "      <td>NaN</td>\n",
       "      <td>NaN</td>\n",
       "      <td>...</td>\n",
       "      <td>138</td>\n",
       "      <td>5</td>\n",
       "      <td>5</td>\n",
       "      <td>5</td>\n",
       "      <td>[1-100]</td>\n",
       "      <td>100000.0</td>\n",
       "      <td>1</td>\n",
       "      <td>0</td>\n",
       "      <td>0</td>\n",
       "      <td>0</td>\n",
       "    </tr>\n",
       "    <tr>\n",
       "      <th>2</th>\n",
       "      <td>2813</td>\n",
       "      <td>54174000.0</td>\n",
       "      <td>50929000.0</td>\n",
       "      <td>50929000.0</td>\n",
       "      <td>0.0</td>\n",
       "      <td>0.0</td>\n",
       "      <td>3245000.0</td>\n",
       "      <td>-1278000.0</td>\n",
       "      <td>1967000.0</td>\n",
       "      <td>500000.0</td>\n",
       "      <td>...</td>\n",
       "      <td>138</td>\n",
       "      <td>20</td>\n",
       "      <td>20</td>\n",
       "      <td>20</td>\n",
       "      <td>[1-100]</td>\n",
       "      <td>250000.0</td>\n",
       "      <td>2</td>\n",
       "      <td>0</td>\n",
       "      <td>0</td>\n",
       "      <td>0</td>\n",
       "    </tr>\n",
       "    <tr>\n",
       "      <th>3</th>\n",
       "      <td>4385</td>\n",
       "      <td>1904000.0</td>\n",
       "      <td>1679000.0</td>\n",
       "      <td>1679000.0</td>\n",
       "      <td>0.0</td>\n",
       "      <td>0.0</td>\n",
       "      <td>225000.0</td>\n",
       "      <td>-88000.0</td>\n",
       "      <td>137000.0</td>\n",
       "      <td>0.0</td>\n",
       "      <td>...</td>\n",
       "      <td>139</td>\n",
       "      <td>9</td>\n",
       "      <td>9</td>\n",
       "      <td>9</td>\n",
       "      <td>[1-100]</td>\n",
       "      <td>10000.0</td>\n",
       "      <td>2</td>\n",
       "      <td>0</td>\n",
       "      <td>0</td>\n",
       "      <td>0</td>\n",
       "    </tr>\n",
       "    <tr>\n",
       "      <th>4</th>\n",
       "      <td>6479</td>\n",
       "      <td>225584000.0</td>\n",
       "      <td>210685000.0</td>\n",
       "      <td>210685000.0</td>\n",
       "      <td>0.0</td>\n",
       "      <td>0.0</td>\n",
       "      <td>14899000.0</td>\n",
       "      <td>-12715000.0</td>\n",
       "      <td>2184000.0</td>\n",
       "      <td>445000.0</td>\n",
       "      <td>...</td>\n",
       "      <td>139</td>\n",
       "      <td>3</td>\n",
       "      <td>3</td>\n",
       "      <td>3</td>\n",
       "      <td>(100-500]</td>\n",
       "      <td>1700598.0</td>\n",
       "      <td>84</td>\n",
       "      <td>0</td>\n",
       "      <td>0</td>\n",
       "      <td>0</td>\n",
       "    </tr>\n",
       "  </tbody>\n",
       "</table>\n",
       "<p>5 rows × 36 columns</p>\n",
       "</div>"
      ],
      "text/plain": [
       "   record_id   ar_revenue  ar_total_expenses  ar_sale_cost  \\\n",
       "0        196   39103000.0         38913000.0    38913000.0   \n",
       "1       1196          NaN                NaN           NaN   \n",
       "2       2813   54174000.0         50929000.0    50929000.0   \n",
       "3       4385    1904000.0          1679000.0     1679000.0   \n",
       "4       6479  225584000.0        210685000.0   210685000.0   \n",
       "\n",
       "   ar_selling_expenses  ar_management_expenses  ar_sale_profit  \\\n",
       "0                  0.0                     0.0        190000.0   \n",
       "1                  NaN                     NaN             NaN   \n",
       "2                  0.0                     0.0       3245000.0   \n",
       "3                  0.0                     0.0        225000.0   \n",
       "4                  0.0                     0.0      14899000.0   \n",
       "\n",
       "   ar_balance_of_rvns_and_expns  ar_profit_before_tax  ar_taxes  ...  \\\n",
       "0                      141000.0              331000.0  284000.0  ...   \n",
       "1                           NaN                   NaN       NaN  ...   \n",
       "2                    -1278000.0             1967000.0  500000.0  ...   \n",
       "3                      -88000.0              137000.0       0.0  ...   \n",
       "4                   -12715000.0             2184000.0  445000.0  ...   \n",
       "\n",
       "   ogrn_age  adr_actual_age  head_actual_age  cap_actual_age  ul_staff_range  \\\n",
       "0       135               3                3               3         [1-100]   \n",
       "1       138               5                5               5         [1-100]   \n",
       "2       138              20               20              20         [1-100]   \n",
       "3       139               9                9               9         [1-100]   \n",
       "4       139               3                3               3       (100-500]   \n",
       "\n",
       "   ul_capital_sum  ul_founders_cnt  ul_branch_cnt  ul_strategic_flg  \\\n",
       "0        100000.0                1              0                 0   \n",
       "1        100000.0                1              0                 0   \n",
       "2        250000.0                2              0                 0   \n",
       "3         10000.0                2              0                 0   \n",
       "4       1700598.0               84              0                 0   \n",
       "\n",
       "   ul_systematizing_flg  \n",
       "0                     0  \n",
       "1                     0  \n",
       "2                     0  \n",
       "3                     0  \n",
       "4                     0  \n",
       "\n",
       "[5 rows x 36 columns]"
      ]
     },
     "execution_count": 58,
     "metadata": {},
     "output_type": "execute_result"
    }
   ],
   "source": [
    "#5 верхних тестовых записей\n",
    "test_df.head()"
   ]
  },
  {
   "cell_type": "code",
   "execution_count": 59,
   "id": "5b881922",
   "metadata": {},
   "outputs": [
    {
     "data": {
      "text/plain": [
       "(200, 36)"
      ]
     },
     "execution_count": 59,
     "metadata": {},
     "output_type": "execute_result"
    }
   ],
   "source": [
    "#Размерность тестового датасета\n",
    "test_df.shape"
   ]
  },
  {
   "cell_type": "code",
   "execution_count": 60,
   "id": "3b617e5f",
   "metadata": {},
   "outputs": [
    {
     "data": {
      "text/plain": [
       "float64    25\n",
       "int64      11\n",
       "object      1\n",
       "dtype: int64"
      ]
     },
     "execution_count": 60,
     "metadata": {},
     "output_type": "execute_result"
    }
   ],
   "source": [
    "#Статистика типов данных в тренировочном датасете\n",
    "train_df.dtypes.value_counts()"
   ]
  },
  {
   "cell_type": "code",
   "execution_count": 61,
   "id": "b40aaa82",
   "metadata": {},
   "outputs": [
    {
     "data": {
      "text/plain": [
       "0.06454699799351751"
      ]
     },
     "execution_count": 61,
     "metadata": {},
     "output_type": "execute_result"
    }
   ],
   "source": [
    "#Средний дефолт-рейт в выборке\n",
    "train_df['default_12m'].values.mean()"
   ]
  },
  {
   "cell_type": "code",
   "execution_count": 62,
   "id": "14fd91b0",
   "metadata": {},
   "outputs": [
    {
     "data": {
      "text/plain": [
       "32395"
      ]
     },
     "execution_count": 62,
     "metadata": {},
     "output_type": "execute_result"
    }
   ],
   "source": [
    "#Количество уникальных записей в признаке \"record_id\" тренировчного датасета\n",
    "train_df.record_id.nunique()"
   ]
  },
  {
   "cell_type": "code",
   "execution_count": 63,
   "id": "fb8000ba",
   "metadata": {},
   "outputs": [],
   "source": [
    "#3.Построение бейзлайн модели\n",
    "#Список исследуемых колонок-признаков\n",
    "features = ['bus_age','ul_capital_sum', 'ul_founders_cnt']"
   ]
  },
  {
   "cell_type": "code",
   "execution_count": 64,
   "id": "0ed5a9b4",
   "metadata": {},
   "outputs": [],
   "source": [
    "#Создание нового датасета на основе тренировочного по выделенным ранее признакам\n",
    "features_df = train_df.loc[:,features]"
   ]
  },
  {
   "cell_type": "code",
   "execution_count": 65,
   "id": "d83c1dbc",
   "metadata": {},
   "outputs": [],
   "source": [
    "#Добавление колонки дефолт-рейта в новый датасет\n",
    "features_df['default_12m'] = train_df['default_12m']"
   ]
  },
  {
   "cell_type": "code",
   "execution_count": 66,
   "id": "d52146c2",
   "metadata": {},
   "outputs": [
    {
     "data": {
      "text/html": [
       "<div>\n",
       "<style scoped>\n",
       "    .dataframe tbody tr th:only-of-type {\n",
       "        vertical-align: middle;\n",
       "    }\n",
       "\n",
       "    .dataframe tbody tr th {\n",
       "        vertical-align: top;\n",
       "    }\n",
       "\n",
       "    .dataframe thead th {\n",
       "        text-align: right;\n",
       "    }\n",
       "</style>\n",
       "<table border=\"1\" class=\"dataframe\">\n",
       "  <thead>\n",
       "    <tr style=\"text-align: right;\">\n",
       "      <th></th>\n",
       "      <th>bus_age</th>\n",
       "      <th>ul_capital_sum</th>\n",
       "      <th>ul_founders_cnt</th>\n",
       "      <th>default_12m</th>\n",
       "    </tr>\n",
       "  </thead>\n",
       "  <tbody>\n",
       "    <tr>\n",
       "      <th>0</th>\n",
       "      <td>198</td>\n",
       "      <td>50000.0</td>\n",
       "      <td>2</td>\n",
       "      <td>0</td>\n",
       "    </tr>\n",
       "    <tr>\n",
       "      <th>1</th>\n",
       "      <td>256</td>\n",
       "      <td>10000.0</td>\n",
       "      <td>5</td>\n",
       "      <td>0</td>\n",
       "    </tr>\n",
       "    <tr>\n",
       "      <th>2</th>\n",
       "      <td>33</td>\n",
       "      <td>10000.0</td>\n",
       "      <td>2</td>\n",
       "      <td>0</td>\n",
       "    </tr>\n",
       "    <tr>\n",
       "      <th>3</th>\n",
       "      <td>185</td>\n",
       "      <td>300000.0</td>\n",
       "      <td>1</td>\n",
       "      <td>0</td>\n",
       "    </tr>\n",
       "    <tr>\n",
       "      <th>4</th>\n",
       "      <td>220</td>\n",
       "      <td>10000.0</td>\n",
       "      <td>2</td>\n",
       "      <td>0</td>\n",
       "    </tr>\n",
       "  </tbody>\n",
       "</table>\n",
       "</div>"
      ],
      "text/plain": [
       "   bus_age  ul_capital_sum  ul_founders_cnt  default_12m\n",
       "0      198         50000.0                2            0\n",
       "1      256         10000.0                5            0\n",
       "2       33         10000.0                2            0\n",
       "3      185        300000.0                1            0\n",
       "4      220         10000.0                2            0"
      ]
     },
     "execution_count": 66,
     "metadata": {},
     "output_type": "execute_result"
    }
   ],
   "source": [
    "#Тестовые записи\n",
    "features_df.head()"
   ]
  },
  {
   "cell_type": "code",
   "execution_count": 67,
   "id": "4e8b9a86",
   "metadata": {},
   "outputs": [
    {
     "data": {
      "text/html": [
       "<div>\n",
       "<style scoped>\n",
       "    .dataframe tbody tr th:only-of-type {\n",
       "        vertical-align: middle;\n",
       "    }\n",
       "\n",
       "    .dataframe tbody tr th {\n",
       "        vertical-align: top;\n",
       "    }\n",
       "\n",
       "    .dataframe thead th {\n",
       "        text-align: right;\n",
       "    }\n",
       "</style>\n",
       "<table border=\"1\" class=\"dataframe\">\n",
       "  <thead>\n",
       "    <tr style=\"text-align: right;\">\n",
       "      <th></th>\n",
       "      <th>bus_age</th>\n",
       "      <th>ul_capital_sum</th>\n",
       "      <th>ul_founders_cnt</th>\n",
       "      <th>default_12m</th>\n",
       "    </tr>\n",
       "  </thead>\n",
       "  <tbody>\n",
       "    <tr>\n",
       "      <th>bus_age</th>\n",
       "      <td>1.000000</td>\n",
       "      <td>0.066929</td>\n",
       "      <td>0.209451</td>\n",
       "      <td>-0.109389</td>\n",
       "    </tr>\n",
       "    <tr>\n",
       "      <th>ul_capital_sum</th>\n",
       "      <td>0.066929</td>\n",
       "      <td>1.000000</td>\n",
       "      <td>0.029165</td>\n",
       "      <td>-0.019452</td>\n",
       "    </tr>\n",
       "    <tr>\n",
       "      <th>ul_founders_cnt</th>\n",
       "      <td>0.209451</td>\n",
       "      <td>0.029165</td>\n",
       "      <td>1.000000</td>\n",
       "      <td>-0.023244</td>\n",
       "    </tr>\n",
       "    <tr>\n",
       "      <th>default_12m</th>\n",
       "      <td>-0.109389</td>\n",
       "      <td>-0.019452</td>\n",
       "      <td>-0.023244</td>\n",
       "      <td>1.000000</td>\n",
       "    </tr>\n",
       "  </tbody>\n",
       "</table>\n",
       "</div>"
      ],
      "text/plain": [
       "                  bus_age  ul_capital_sum  ul_founders_cnt  default_12m\n",
       "bus_age          1.000000        0.066929         0.209451    -0.109389\n",
       "ul_capital_sum   0.066929        1.000000         0.029165    -0.019452\n",
       "ul_founders_cnt  0.209451        0.029165         1.000000    -0.023244\n",
       "default_12m     -0.109389       -0.019452        -0.023244     1.000000"
      ]
     },
     "execution_count": 67,
     "metadata": {},
     "output_type": "execute_result"
    }
   ],
   "source": [
    "#Получим карту корелляций по бейзлайн модели\n",
    "features_df.corr()"
   ]
  },
  {
   "cell_type": "code",
   "execution_count": 68,
   "id": "7d869f1a",
   "metadata": {},
   "outputs": [],
   "source": [
    "#Валидация результатов\n",
    "#Заполняем записями соответсвующие значение выборок для обучения и тестирования (целевые переменные и побочные признаки)\n",
    "X_train, X_test, y_train, y_test = train_test_split(features_df.drop('default_12m',axis=1),features_df['default_12m'],random_state=42, shuffle=True)"
   ]
  },
  {
   "cell_type": "code",
   "execution_count": 69,
   "id": "626d0ce7",
   "metadata": {},
   "outputs": [],
   "source": [
    "#Модель по методу градиентного бустинга\n",
    "from sklearn.ensemble import GradientBoostingClassifier\n",
    "grBoost = GradientBoostingClassifier(n_estimators=50, learning_rate=0.75, max_features=2, max_depth=2, random_state=241) #0.664283"
   ]
  },
  {
   "cell_type": "code",
   "execution_count": 70,
   "id": "8c52b793",
   "metadata": {
    "scrolled": false
   },
   "outputs": [
    {
     "data": {
      "text/plain": [
       "0.6642833755002262"
      ]
     },
     "execution_count": 70,
     "metadata": {},
     "output_type": "execute_result"
    }
   ],
   "source": [
    "#Кросс-валидация тренировочной модели с использованием Логистической регрессии и оценки результата по ROC-кривой (истинно-позитивные/истинно-негативные)\n",
    "cv_baseline = cross_val_score(grBoost, X_train, y_train, cv=5, scoring='roc_auc').mean()\n",
    "cv_baseline"
   ]
  },
  {
   "cell_type": "code",
   "execution_count": 71,
   "id": "2101a319",
   "metadata": {},
   "outputs": [
    {
     "data": {
      "text/plain": [
       "GradientBoostingClassifier(learning_rate=0.75, max_depth=2, max_features=2,\n",
       "                           n_estimators=50, random_state=241)"
      ]
     },
     "execution_count": 71,
     "metadata": {},
     "output_type": "execute_result"
    }
   ],
   "source": [
    "#Обучение модели на всех данных\n",
    "grBoost.fit(features_df.drop('default_12m',axis=1), features_df['default_12m'])"
   ]
  },
  {
   "cell_type": "code",
   "execution_count": 72,
   "id": "981b7f4c",
   "metadata": {},
   "outputs": [],
   "source": [
    "#Создаём файл с ответами\n",
    "#Новый фрейм с записями и id\n",
    "answ_df = test_df[['record_id']]"
   ]
  },
  {
   "cell_type": "code",
   "execution_count": 73,
   "id": "589f8924",
   "metadata": {},
   "outputs": [
    {
     "name": "stderr",
     "output_type": "stream",
     "text": [
      "C:\\Users\\marin\\AppData\\Local\\Temp/ipykernel_17040/3343517678.py:2: SettingWithCopyWarning: \n",
      "A value is trying to be set on a copy of a slice from a DataFrame.\n",
      "Try using .loc[row_indexer,col_indexer] = value instead\n",
      "\n",
      "See the caveats in the documentation: https://pandas.pydata.org/pandas-docs/stable/user_guide/indexing.html#returning-a-view-versus-a-copy\n",
      "  answ_df['id'] = answ_df['record_id']\n"
     ]
    }
   ],
   "source": [
    "#Дублирование полученных значений id в новый столбец\n",
    "answ_df['id'] = answ_df['record_id']"
   ]
  },
  {
   "cell_type": "code",
   "execution_count": 74,
   "id": "1bf6ce88",
   "metadata": {},
   "outputs": [
    {
     "name": "stderr",
     "output_type": "stream",
     "text": [
      "C:\\Python310\\lib\\site-packages\\pandas\\core\\frame.py:4906: SettingWithCopyWarning: \n",
      "A value is trying to be set on a copy of a slice from a DataFrame\n",
      "\n",
      "See the caveats in the documentation: https://pandas.pydata.org/pandas-docs/stable/user_guide/indexing.html#returning-a-view-versus-a-copy\n",
      "  return super().drop(\n"
     ]
    }
   ],
   "source": [
    "#Удаляем первоначально скопированный из другого фрейма стобец и оставляем наш уникальный\n",
    "answ_df.drop('record_id',axis=1, inplace=True)"
   ]
  },
  {
   "cell_type": "code",
   "execution_count": 75,
   "id": "5f611f8d",
   "metadata": {},
   "outputs": [],
   "source": [
    "#Получаем среднее значение по целевой переменной из тренировочного датасета\n",
    "cutoff = y_train.mean()"
   ]
  },
  {
   "cell_type": "code",
   "execution_count": 76,
   "id": "326a2327",
   "metadata": {},
   "outputs": [
    {
     "data": {
      "text/plain": [
       "0.06548403029305236"
      ]
     },
     "execution_count": 76,
     "metadata": {},
     "output_type": "execute_result"
    }
   ],
   "source": [
    "cutoff"
   ]
  },
  {
   "cell_type": "code",
   "execution_count": 77,
   "id": "7c66ba4c",
   "metadata": {},
   "outputs": [
    {
     "name": "stderr",
     "output_type": "stream",
     "text": [
      "C:\\Users\\marin\\AppData\\Local\\Temp/ipykernel_17040/3650119305.py:2: SettingWithCopyWarning: \n",
      "A value is trying to be set on a copy of a slice from a DataFrame.\n",
      "Try using .loc[row_indexer,col_indexer] = value instead\n",
      "\n",
      "See the caveats in the documentation: https://pandas.pydata.org/pandas-docs/stable/user_guide/indexing.html#returning-a-view-versus-a-copy\n",
      "  answ_df['predict'] = (grBoost.predict_proba(test_df.loc[:,features])[:,1]>cutoff).astype(int)\n"
     ]
    }
   ],
   "source": [
    "#Создаём новый столбец в фрейме ответов, содержащий в себе записи со значениями, превышающими по предикту cutoff из тестового датасета и конвертируем его тип bool в int\n",
    "answ_df['predict'] = (grBoost.predict_proba(test_df.loc[:,features])[:,1]>cutoff).astype(int)"
   ]
  },
  {
   "cell_type": "code",
   "execution_count": 78,
   "id": "e28d133a",
   "metadata": {},
   "outputs": [
    {
     "data": {
      "text/html": [
       "<div>\n",
       "<style scoped>\n",
       "    .dataframe tbody tr th:only-of-type {\n",
       "        vertical-align: middle;\n",
       "    }\n",
       "\n",
       "    .dataframe tbody tr th {\n",
       "        vertical-align: top;\n",
       "    }\n",
       "\n",
       "    .dataframe thead th {\n",
       "        text-align: right;\n",
       "    }\n",
       "</style>\n",
       "<table border=\"1\" class=\"dataframe\">\n",
       "  <thead>\n",
       "    <tr style=\"text-align: right;\">\n",
       "      <th></th>\n",
       "      <th>id</th>\n",
       "      <th>predict</th>\n",
       "    </tr>\n",
       "  </thead>\n",
       "  <tbody>\n",
       "    <tr>\n",
       "      <th>0</th>\n",
       "      <td>196</td>\n",
       "      <td>0</td>\n",
       "    </tr>\n",
       "    <tr>\n",
       "      <th>1</th>\n",
       "      <td>1196</td>\n",
       "      <td>0</td>\n",
       "    </tr>\n",
       "    <tr>\n",
       "      <th>2</th>\n",
       "      <td>2813</td>\n",
       "      <td>0</td>\n",
       "    </tr>\n",
       "    <tr>\n",
       "      <th>3</th>\n",
       "      <td>4385</td>\n",
       "      <td>0</td>\n",
       "    </tr>\n",
       "    <tr>\n",
       "      <th>4</th>\n",
       "      <td>6479</td>\n",
       "      <td>0</td>\n",
       "    </tr>\n",
       "    <tr>\n",
       "      <th>...</th>\n",
       "      <td>...</td>\n",
       "      <td>...</td>\n",
       "    </tr>\n",
       "    <tr>\n",
       "      <th>195</th>\n",
       "      <td>265577</td>\n",
       "      <td>1</td>\n",
       "    </tr>\n",
       "    <tr>\n",
       "      <th>196</th>\n",
       "      <td>266648</td>\n",
       "      <td>0</td>\n",
       "    </tr>\n",
       "    <tr>\n",
       "      <th>197</th>\n",
       "      <td>266849</td>\n",
       "      <td>1</td>\n",
       "    </tr>\n",
       "    <tr>\n",
       "      <th>198</th>\n",
       "      <td>267566</td>\n",
       "      <td>0</td>\n",
       "    </tr>\n",
       "    <tr>\n",
       "      <th>199</th>\n",
       "      <td>271584</td>\n",
       "      <td>0</td>\n",
       "    </tr>\n",
       "  </tbody>\n",
       "</table>\n",
       "<p>200 rows × 2 columns</p>\n",
       "</div>"
      ],
      "text/plain": [
       "         id  predict\n",
       "0       196        0\n",
       "1      1196        0\n",
       "2      2813        0\n",
       "3      4385        0\n",
       "4      6479        0\n",
       "..      ...      ...\n",
       "195  265577        1\n",
       "196  266648        0\n",
       "197  266849        1\n",
       "198  267566        0\n",
       "199  271584        0\n",
       "\n",
       "[200 rows x 2 columns]"
      ]
     },
     "execution_count": 78,
     "metadata": {},
     "output_type": "execute_result"
    }
   ],
   "source": [
    "#Результирующий фрейм \n",
    "answ_df"
   ]
  },
  {
   "cell_type": "code",
   "execution_count": 52,
   "id": "73892df1",
   "metadata": {},
   "outputs": [],
   "source": [
    "#Конвертируем финальный фрейм в csv-файл и сохраняем его для загрузки получившейся модели на сайт\n",
    "answ_df.to_csv('PD-decision-submit-1.csv',index=False, sep=';')"
   ]
  },
  {
   "cell_type": "code",
   "execution_count": null,
   "id": "6ccb20e5",
   "metadata": {},
   "outputs": [],
   "source": []
  }
 ],
 "metadata": {
  "kernelspec": {
   "display_name": "Python 3 (ipykernel)",
   "language": "python",
   "name": "python3"
  },
  "language_info": {
   "codemirror_mode": {
    "name": "ipython",
    "version": 3
   },
   "file_extension": ".py",
   "mimetype": "text/x-python",
   "name": "python",
   "nbconvert_exporter": "python",
   "pygments_lexer": "ipython3",
   "version": "3.10.0"
  }
 },
 "nbformat": 4,
 "nbformat_minor": 5
}
